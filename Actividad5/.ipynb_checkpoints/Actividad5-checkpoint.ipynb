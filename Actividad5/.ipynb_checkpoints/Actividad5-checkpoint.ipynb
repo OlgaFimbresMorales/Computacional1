{
 "metadata": {
  "name": "",
  "signature": "sha256:4ae650b4c15b1a9861983174c37d42091eecdd9e0f6bb3e56a8ac5db2b89432a"
 },
 "nbformat": 3,
 "nbformat_minor": 0,
 "worksheets": []
}