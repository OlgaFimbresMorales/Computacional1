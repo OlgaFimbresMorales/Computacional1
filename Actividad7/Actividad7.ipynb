{
 "metadata": {
  "name": "",
  "signature": "sha256:201935922cd42fe776bdfa2d70f1db5bb69a8b53fa895b2416281320d0268ad5"
 },
 "nbformat": 3,
 "nbformat_minor": 0,
 "worksheets": [
  {
   "cells": [
    {
     "cell_type": "code",
     "collapsed": false,
     "input": [
      "#Ecuaciones para el p\u00e9ndulo simple\n",
      "#theta'(t) =  omega(t)\n",
      "#omega'(t) = -b*omega(t) - c*sin(theta(t))\n",
      "#notaci\u00f3n:\n",
      "#b : coeficiente de fricci\u00f3n\n",
      "#g : aceleraci\u00f3n gravicaional\n",
      "#l : longitud de la cuerda del p\u00e9ndulo en metros\n",
      "#c : cosiente entre gravedad y longitud de la cuerda\n",
      "#theta : posici\u00f3n \n",
      "#omega : velocidad angular\n",
      "\n",
      "\n",
      "#!python\n",
      "from numpy import *\n",
      "import pylab as p\n",
      "import numpy as np\n",
      "# Definition of parameters\n",
      "b = 0.0\n",
      "g = 9.8\n",
      "l = 5.\n",
      "c = g/l\n",
      "def dX_dt(X, t=0):\n",
      "   \n",
      "    return array([ X[0],\n",
      "                  -b*X[0] - c*np.sin(X[1]) ]) #X[0]->vel. angular  X[1]->posici\u00f3n\n",
      "\n",
      "#puntos de equilibrio, las escuaciones se igualan a cero\n",
      "X_f0 = array([     0. ,  0.])\n",
      "X_f1 = array([ c, np.pi/2.])\n",
      "all(dX_dt(X_f0) == zeros(2) ) and all(dX_dt(X_f1) == zeros(2)) # => True\n",
      "\n",
      "              \n",
      "\n",
      "#!python\n",
      "from scipy import integrate\n",
      "t = np.linspace(0, 20,  500)              # tiempo\n",
      "X0 = array([np.pi/2, 0])  # Condiciones iniciales, posici\u00f3n, vel.\n",
      "X, infodict = integrate.odeint(dX_dt, X0, t, full_output=True)\n",
      "infodict['message']                     # >>> 'Integration successful.'\n",
      "\n",
      "#!python\n",
      "rabbits, foxes = X.T\n",
      "f1 = p.figure()\n",
      "p.plot(t, rabbits, 'r-', label='Rabbits')\n",
      "p.plot(t, foxes  , 'b-', label='Foxes')\n",
      "p.grid()\n",
      "p.legend(loc='best')\n",
      "p.xlabel('tiempo')\n",
      "p.ylabel('magnitud')\n",
      "p.title('Pendulo simple')\n",
      "f1.savefig('rabbits_and_foxes_1.png')"
     ],
     "language": "python",
     "metadata": {},
     "outputs": [
      {
       "metadata": {},
       "output_type": "display_data",
       "png": "[encoded data removed]",
       "text": [
        "<matplotlib.figure.Figure at 0x7f0e48f915d0>"
       ]
      }
     ],
     "prompt_number": 10
    },
    {
     "cell_type": "code",
     "collapsed": false,
     "input": [],
     "language": "python",
     "metadata": {},
     "outputs": [],
     "prompt_number": 13
    },
    {
     "cell_type": "code",
     "collapsed": false,
     "input": [],
     "language": "python",
     "metadata": {},
     "outputs": [],
     "prompt_number": 13
    },
    {
     "cell_type": "code",
     "collapsed": false,
     "input": [],
     "language": "python",
     "metadata": {},
     "outputs": [],
     "prompt_number": 13
    },
    {
     "cell_type": "code",
     "collapsed": false,
     "input": [],
     "language": "python",
     "metadata": {},
     "outputs": [],
     "prompt_number": 13
    },
    {
     "cell_type": "code",
     "collapsed": false,
     "input": [],
     "language": "python",
     "metadata": {},
     "outputs": [],
     "prompt_number": 13
    },
    {
     "cell_type": "code",
     "collapsed": false,
     "input": [
      "import numpy as np\n",
      "import matplotlib.pyplot as plt\n",
      "from scipy.integrate import odeint\n",
      "\n",
      "\n",
      "\n",
      "b = 0.0 #fricci\u00f3n\n",
      "g = 9.8 #gravedad\n",
      "l = 4.5 #longitud de la cuerda\n",
      "c = g/l\n",
      "\n",
      "X_f0 = array([ -np.pi/2 , -np.pi/2])\n",
      "X_f1 = array([ np.pi/2, np.pi/2.])\n",
      "t = np.linspace(0, 20, 500) #rango de tiempo\n",
      "\n",
      "def pend(y, t, b, c):\n",
      "     theta, omega = y\n",
      "     dydt = [omega, -b*omega - c*np.sin(theta)]\n",
      "     return dydt\n",
      "\n",
      "\n",
      "\n"
     ],
     "language": "python",
     "metadata": {},
     "outputs": [],
     "prompt_number": 53
    },
    {
     "cell_type": "code",
     "collapsed": false,
     "input": [
      "values  = linspace(0.3, 0.9, 5)                          # position of X0 between X_f0 and X_f1\n",
      "vcolors = p.cm.autumn_r(linspace(0.3, 1., len(values)))  # colors for each trajectory\n",
      "\n",
      "f2 = p.figure()\n",
      "\n",
      "#-------------------------------------------------------\n",
      "# plot trajectories\n",
      "for v, col in zip(values, vcolors):\n",
      "    X0 = v * X_f1                               # starting point\n",
      "    X = integrate.odeint( pend, X0, t)         # we don't need infodict here\n",
      "    p.plot( X[:,0], X[:,1], lw=3.5*v, color=col, label='X0=(%.f, %.f)' % ( X0[0], X0[1]) )\n",
      "\n",
      "\n",
      "for v, col in zip(values, vcolors):\n",
      "    X1 = v * X_f2                               # starting point\n",
      "    X = integrate.odeint( pend, X1, t)         # we don't need infodict here\n",
      "    p.plot( X[:,0], X[:,1], lw=3.5*v, color=col, label='X0=(%.f, %.f)' % ( X0[0], X0[1]) )\n",
      "    \n",
      "    \n",
      "#-------------------------------------------------------\n",
      "# define a grid and compute direction at each point\n",
      "ymax = p.ylim(ymin=0)[1]                        # get axis limits\n",
      "xmax = p.xlim(xmin=0)[1]\n",
      "nb_points   = 20\n",
      "\n",
      "x = linspace(0, xmax, nb_points)\n",
      "y = linspace(0, ymax, nb_points)\n",
      "\n",
      "X1 , Y1  = meshgrid(x, y)                       # create a grid\n",
      "DX1, DY1 = pend([X1, Y1])                      # compute growth rate on the gridt\n",
      "M = (hypot(DX1, DY1))                           # Norm of the growth rate\n",
      "M[ M == 0] = 1.                                 # Avoid zero division errors\n",
      "DX1 /= M                                        # Normalize each arrows\n",
      "DY1 /= M\n",
      "\n",
      "#-------------------------------------------------------\n",
      "# Drow direction fields, using matplotlib 's quiver function\n",
      "# I choose to plot normalized arrows and to use colors to give information on\n",
      "# the growth speed\n",
      "p.title('Trajectories and direction fields')\n",
      "Q = p.quiver(X1, Y1, DX1, DY1, M, pivot='mid', cmap=p.cm.jet)\n",
      "p.xlabel('Number of rabbits')\n",
      "p.ylabel('Number of foxes')\n",
      "p.legend()\n",
      "p.grid()\n",
      "p.xlim(0., xmax)\n",
      "p.ylim(0., ymax)\n",
      "f2.savefig('rabbits_and_foxes_2.png')"
     ],
     "language": "python",
     "metadata": {},
     "outputs": [
      {
       "ename": "TypeError",
       "evalue": "pend() takes exactly 4 arguments (2 given)",
       "output_type": "pyerr",
       "traceback": [
        "\u001b[0;31m---------------------------------------------------------------------------\u001b[0m\n\u001b[0;31mTypeError\u001b[0m                                 Traceback (most recent call last)",
        "\u001b[0;31mTypeError\u001b[0m: pend() takes exactly 4 arguments (2 given)"
       ]
      },
      {
       "ename": "TypeError",
       "evalue": "pend() takes exactly 4 arguments (2 given)",
       "output_type": "pyerr",
       "traceback": [
        "\u001b[0;31m---------------------------------------------------------------------------\u001b[0m\n\u001b[0;31mTypeError\u001b[0m                                 Traceback (most recent call last)",
        "\u001b[0;31mTypeError\u001b[0m: pend() takes exactly 4 arguments (2 given)"
       ]
      },
      {
       "ename": "TypeError",
       "evalue": "pend() takes exactly 4 arguments (2 given)",
       "output_type": "pyerr",
       "traceback": [
        "\u001b[0;31m---------------------------------------------------------------------------\u001b[0m\n\u001b[0;31mTypeError\u001b[0m                                 Traceback (most recent call last)",
        "\u001b[0;31mTypeError\u001b[0m: pend() takes exactly 4 arguments (2 given)"
       ]
      },
      {
       "ename": "TypeError",
       "evalue": "pend() takes exactly 4 arguments (2 given)",
       "output_type": "pyerr",
       "traceback": [
        "\u001b[0;31m---------------------------------------------------------------------------\u001b[0m\n\u001b[0;31mTypeError\u001b[0m                                 Traceback (most recent call last)",
        "\u001b[0;31mTypeError\u001b[0m: pend() takes exactly 4 arguments (2 given)"
       ]
      },
      {
       "ename": "TypeError",
       "evalue": "pend() takes exactly 4 arguments (2 given)",
       "output_type": "pyerr",
       "traceback": [
        "\u001b[0;31m---------------------------------------------------------------------------\u001b[0m\n\u001b[0;31mTypeError\u001b[0m                                 Traceback (most recent call last)",
        "\u001b[0;31mTypeError\u001b[0m: pend() takes exactly 4 arguments (2 given)"
       ]
      },
      {
       "ename": "TypeError",
       "evalue": "pend() takes exactly 4 arguments (2 given)",
       "output_type": "pyerr",
       "traceback": [
        "\u001b[0;31m---------------------------------------------------------------------------\u001b[0m\n\u001b[0;31mTypeError\u001b[0m                                 Traceback (most recent call last)",
        "\u001b[0;31mTypeError\u001b[0m: pend() takes exactly 4 arguments (2 given)"
       ]
      },
      {
       "ename": "TypeError",
       "evalue": "pend() takes exactly 4 arguments (2 given)",
       "output_type": "pyerr",
       "traceback": [
        "\u001b[0;31m---------------------------------------------------------------------------\u001b[0m\n\u001b[0;31mTypeError\u001b[0m                                 Traceback (most recent call last)",
        "\u001b[0;31mTypeError\u001b[0m: pend() takes exactly 4 arguments (2 given)"
       ]
      },
      {
       "ename": "TypeError",
       "evalue": "pend() takes exactly 4 arguments (2 given)",
       "output_type": "pyerr",
       "traceback": [
        "\u001b[0;31m---------------------------------------------------------------------------\u001b[0m\n\u001b[0;31mTypeError\u001b[0m                                 Traceback (most recent call last)",
        "\u001b[0;31mTypeError\u001b[0m: pend() takes exactly 4 arguments (2 given)"
       ]
      },
      {
       "ename": "TypeError",
       "evalue": "pend() takes exactly 4 arguments (2 given)",
       "output_type": "pyerr",
       "traceback": [
        "\u001b[0;31m---------------------------------------------------------------------------\u001b[0m\n\u001b[0;31mTypeError\u001b[0m                                 Traceback (most recent call last)",
        "\u001b[0;31mTypeError\u001b[0m: pend() takes exactly 4 arguments (2 given)"
       ]
      },
      {
       "ename": "TypeError",
       "evalue": "pend() takes exactly 4 arguments (2 given)",
       "output_type": "pyerr",
       "traceback": [
        "\u001b[0;31m---------------------------------------------------------------------------\u001b[0m\n\u001b[0;31mTypeError\u001b[0m                                 Traceback (most recent call last)",
        "\u001b[0;31mTypeError\u001b[0m: pend() takes exactly 4 arguments (2 given)"
       ]
      },
      {
       "ename": "TypeError",
       "evalue": "pend() takes exactly 4 arguments (2 given)",
       "output_type": "pyerr",
       "traceback": [
        "\u001b[0;31m---------------------------------------------------------------------------\u001b[0m\n\u001b[0;31mTypeError\u001b[0m                                 Traceback (most recent call last)",
        "\u001b[0;31mTypeError\u001b[0m: pend() takes exactly 4 arguments (2 given)"
       ]
      },
      {
       "ename": "TypeError",
       "evalue": "pend() takes exactly 4 arguments (2 given)",
       "output_type": "pyerr",
       "traceback": [
        "\u001b[0;31m---------------------------------------------------------------------------\u001b[0m\n\u001b[0;31mTypeError\u001b[0m                                 Traceback (most recent call last)",
        "\u001b[0;31mTypeError\u001b[0m: pend() takes exactly 4 arguments (2 given)"
       ]
      },
      {
       "ename": "TypeError",
       "evalue": "pend() takes exactly 4 arguments (2 given)",
       "output_type": "pyerr",
       "traceback": [
        "\u001b[0;31m---------------------------------------------------------------------------\u001b[0m\n\u001b[0;31mTypeError\u001b[0m                                 Traceback (most recent call last)",
        "\u001b[0;31mTypeError\u001b[0m: pend() takes exactly 4 arguments (2 given)"
       ]
      },
      {
       "ename": "TypeError",
       "evalue": "pend() takes exactly 4 arguments (2 given)",
       "output_type": "pyerr",
       "traceback": [
        "\u001b[0;31m---------------------------------------------------------------------------\u001b[0m\n\u001b[0;31mTypeError\u001b[0m                                 Traceback (most recent call last)",
        "\u001b[0;31mTypeError\u001b[0m: pend() takes exactly 4 arguments (2 given)"
       ]
      },
      {
       "ename": "TypeError",
       "evalue": "pend() takes exactly 4 arguments (2 given)",
       "output_type": "pyerr",
       "traceback": [
        "\u001b[0;31m---------------------------------------------------------------------------\u001b[0m\n\u001b[0;31mTypeError\u001b[0m                                 Traceback (most recent call last)",
        "\u001b[0;31mTypeError\u001b[0m: pend() takes exactly 4 arguments (2 given)"
       ]
      },
      {
       "ename": "TypeError",
       "evalue": "pend() takes exactly 4 arguments (2 given)",
       "output_type": "pyerr",
       "traceback": [
        "\u001b[0;31m---------------------------------------------------------------------------\u001b[0m\n\u001b[0;31mTypeError\u001b[0m                                 Traceback (most recent call last)",
        "\u001b[0;31mTypeError\u001b[0m: pend() takes exactly 4 arguments (2 given)"
       ]
      },
      {
       "ename": "TypeError",
       "evalue": "pend() takes exactly 4 arguments (2 given)",
       "output_type": "pyerr",
       "traceback": [
        "\u001b[0;31m---------------------------------------------------------------------------\u001b[0m\n\u001b[0;31mTypeError\u001b[0m                                 Traceback (most recent call last)",
        "\u001b[0;31mTypeError\u001b[0m: pend() takes exactly 4 arguments (2 given)"
       ]
      },
      {
       "ename": "TypeError",
       "evalue": "pend() takes exactly 4 arguments (2 given)",
       "output_type": "pyerr",
       "traceback": [
        "\u001b[0;31m---------------------------------------------------------------------------\u001b[0m\n\u001b[0;31mTypeError\u001b[0m                                 Traceback (most recent call last)",
        "\u001b[0;31mTypeError\u001b[0m: pend() takes exactly 4 arguments (2 given)"
       ]
      },
      {
       "ename": "TypeError",
       "evalue": "pend() takes exactly 4 arguments (2 given)",
       "output_type": "pyerr",
       "traceback": [
        "\u001b[0;31m---------------------------------------------------------------------------\u001b[0m\n\u001b[0;31mTypeError\u001b[0m                                 Traceback (most recent call last)",
        "\u001b[0;31mTypeError\u001b[0m: pend() takes exactly 4 arguments (2 given)"
       ]
      },
      {
       "ename": "TypeError",
       "evalue": "pend() takes exactly 4 arguments (2 given)",
       "output_type": "pyerr",
       "traceback": [
        "\u001b[0;31m---------------------------------------------------------------------------\u001b[0m\n\u001b[0;31mTypeError\u001b[0m                                 Traceback (most recent call last)",
        "\u001b[0;31mTypeError\u001b[0m: pend() takes exactly 4 arguments (2 given)"
       ]
      },
      {
       "ename": "TypeError",
       "evalue": "pend() takes exactly 4 arguments (2 given)",
       "output_type": "pyerr",
       "traceback": [
        "\u001b[0;31m---------------------------------------------------------------------------\u001b[0m\n\u001b[0;31mTypeError\u001b[0m                                 Traceback (most recent call last)",
        "\u001b[0;31mTypeError\u001b[0m: pend() takes exactly 4 arguments (2 given)"
       ]
      },
      {
       "ename": "TypeError",
       "evalue": "pend() takes exactly 4 arguments (2 given)",
       "output_type": "pyerr",
       "traceback": [
        "\u001b[0;31m---------------------------------------------------------------------------\u001b[0m\n\u001b[0;31mTypeError\u001b[0m                                 Traceback (most recent call last)",
        "\u001b[0;31mTypeError\u001b[0m: pend() takes exactly 4 arguments (2 given)"
       ]
      },
      {
       "ename": "TypeError",
       "evalue": "pend() takes exactly 4 arguments (2 given)",
       "output_type": "pyerr",
       "traceback": [
        "\u001b[0;31m---------------------------------------------------------------------------\u001b[0m\n\u001b[0;31mTypeError\u001b[0m                                 Traceback (most recent call last)",
        "\u001b[0;31mTypeError\u001b[0m: pend() takes exactly 4 arguments (2 given)"
       ]
      },
      {
       "ename": "TypeError",
       "evalue": "pend() takes exactly 4 arguments (2 given)",
       "output_type": "pyerr",
       "traceback": [
        "\u001b[0;31m---------------------------------------------------------------------------\u001b[0m\n\u001b[0;31mTypeError\u001b[0m                                 Traceback (most recent call last)",
        "\u001b[0;31mTypeError\u001b[0m: pend() takes exactly 4 arguments (2 given)"
       ]
      },
      {
       "ename": "TypeError",
       "evalue": "pend() takes exactly 4 arguments (2 given)",
       "output_type": "pyerr",
       "traceback": [
        "\u001b[0;31m---------------------------------------------------------------------------\u001b[0m\n\u001b[0;31mTypeError\u001b[0m                                 Traceback (most recent call last)",
        "\u001b[0;31mTypeError\u001b[0m: pend() takes exactly 4 arguments (2 given)"
       ]
      },
      {
       "ename": "TypeError",
       "evalue": "pend() takes exactly 4 arguments (2 given)",
       "output_type": "pyerr",
       "traceback": [
        "\u001b[0;31m---------------------------------------------------------------------------\u001b[0m\n\u001b[0;31mTypeError\u001b[0m                                 Traceback (most recent call last)",
        "\u001b[0;31mTypeError\u001b[0m: pend() takes exactly 4 arguments (2 given)"
       ]
      },
      {
       "ename": "TypeError",
       "evalue": "pend() takes exactly 4 arguments (2 given)",
       "output_type": "pyerr",
       "traceback": [
        "\u001b[0;31m---------------------------------------------------------------------------\u001b[0m\n\u001b[0;31mTypeError\u001b[0m                                 Traceback (most recent call last)",
        "\u001b[0;31mTypeError\u001b[0m: pend() takes exactly 4 arguments (2 given)"
       ]
      },
      {
       "ename": "TypeError",
       "evalue": "pend() takes exactly 4 arguments (2 given)",
       "output_type": "pyerr",
       "traceback": [
        "\u001b[0;31m---------------------------------------------------------------------------\u001b[0m\n\u001b[0;31mTypeError\u001b[0m                                 Traceback (most recent call last)",
        "\u001b[0;31mTypeError\u001b[0m: pend() takes exactly 4 arguments (2 given)"
       ]
      },
      {
       "ename": "TypeError",
       "evalue": "pend() takes exactly 4 arguments (2 given)",
       "output_type": "pyerr",
       "traceback": [
        "\u001b[0;31m---------------------------------------------------------------------------\u001b[0m\n\u001b[0;31mTypeError\u001b[0m                                 Traceback (most recent call last)",
        "\u001b[0;31mTypeError\u001b[0m: pend() takes exactly 4 arguments (2 given)"
       ]
      },
      {
       "ename": "TypeError",
       "evalue": "pend() takes exactly 4 arguments (2 given)",
       "output_type": "pyerr",
       "traceback": [
        "\u001b[0;31m---------------------------------------------------------------------------\u001b[0m\n\u001b[0;31mTypeError\u001b[0m                                 Traceback (most recent call last)",
        "\u001b[0;31mTypeError\u001b[0m: pend() takes exactly 4 arguments (2 given)"
       ]
      },
      {
       "ename": "TypeError",
       "evalue": "pend() takes exactly 4 arguments (2 given)",
       "output_type": "pyerr",
       "traceback": [
        "\u001b[0;31m---------------------------------------------------------------------------\u001b[0m\n\u001b[0;31mTypeError\u001b[0m                                 Traceback (most recent call last)",
        "\u001b[0;31mTypeError\u001b[0m: pend() takes exactly 4 arguments (2 given)"
       ]
      },
      {
       "ename": "TypeError",
       "evalue": "pend() takes exactly 4 arguments (2 given)",
       "output_type": "pyerr",
       "traceback": [
        "\u001b[0;31m---------------------------------------------------------------------------\u001b[0m\n\u001b[0;31mTypeError\u001b[0m                                 Traceback (most recent call last)",
        "\u001b[0;31mTypeError\u001b[0m: pend() takes exactly 4 arguments (2 given)"
       ]
      },
      {
       "ename": "TypeError",
       "evalue": "pend() takes exactly 4 arguments (2 given)",
       "output_type": "pyerr",
       "traceback": [
        "\u001b[0;31m---------------------------------------------------------------------------\u001b[0m\n\u001b[0;31mTypeError\u001b[0m                                 Traceback (most recent call last)",
        "\u001b[0;31mTypeError\u001b[0m: pend() takes exactly 4 arguments (2 given)"
       ]
      },
      {
       "ename": "TypeError",
       "evalue": "pend() takes exactly 4 arguments (2 given)",
       "output_type": "pyerr",
       "traceback": [
        "\u001b[0;31m---------------------------------------------------------------------------\u001b[0m\n\u001b[0;31mTypeError\u001b[0m                                 Traceback (most recent call last)",
        "\u001b[0;31mTypeError\u001b[0m: pend() takes exactly 4 arguments (2 given)"
       ]
      },
      {
       "ename": "TypeError",
       "evalue": "pend() takes exactly 4 arguments (2 given)",
       "output_type": "pyerr",
       "traceback": [
        "\u001b[0;31m---------------------------------------------------------------------------\u001b[0m\n\u001b[0;31mTypeError\u001b[0m                                 Traceback (most recent call last)",
        "\u001b[0;31mTypeError\u001b[0m: pend() takes exactly 4 arguments (2 given)"
       ]
      },
      {
       "ename": "TypeError",
       "evalue": "pend() takes exactly 4 arguments (2 given)",
       "output_type": "pyerr",
       "traceback": [
        "\u001b[0;31m---------------------------------------------------------------------------\u001b[0m\n\u001b[0;31mTypeError\u001b[0m                                 Traceback (most recent call last)",
        "\u001b[0;31mTypeError\u001b[0m: pend() takes exactly 4 arguments (2 given)"
       ]
      },
      {
       "ename": "TypeError",
       "evalue": "pend() takes exactly 4 arguments (2 given)",
       "output_type": "pyerr",
       "traceback": [
        "\u001b[0;31m---------------------------------------------------------------------------\u001b[0m\n\u001b[0;31mTypeError\u001b[0m                                 Traceback (most recent call last)",
        "\u001b[0;31mTypeError\u001b[0m: pend() takes exactly 4 arguments (2 given)"
       ]
      },
      {
       "ename": "TypeError",
       "evalue": "pend() takes exactly 4 arguments (2 given)",
       "output_type": "pyerr",
       "traceback": [
        "\u001b[0;31m---------------------------------------------------------------------------\u001b[0m\n\u001b[0;31mTypeError\u001b[0m                                 Traceback (most recent call last)",
        "\u001b[0;31mTypeError\u001b[0m: pend() takes exactly 4 arguments (2 given)"
       ]
      },
      {
       "ename": "TypeError",
       "evalue": "pend() takes exactly 4 arguments (2 given)",
       "output_type": "pyerr",
       "traceback": [
        "\u001b[0;31m---------------------------------------------------------------------------\u001b[0m\n\u001b[0;31mTypeError\u001b[0m                                 Traceback (most recent call last)",
        "\u001b[0;31mTypeError\u001b[0m: pend() takes exactly 4 arguments (2 given)"
       ]
      },
      {
       "ename": "TypeError",
       "evalue": "pend() takes exactly 4 arguments (2 given)",
       "output_type": "pyerr",
       "traceback": [
        "\u001b[0;31m---------------------------------------------------------------------------\u001b[0m\n\u001b[0;31mTypeError\u001b[0m                                 Traceback (most recent call last)",
        "\u001b[0;31mTypeError\u001b[0m: pend() takes exactly 4 arguments (2 given)"
       ]
      },
      {
       "ename": "TypeError",
       "evalue": "pend() takes exactly 4 arguments (2 given)",
       "output_type": "pyerr",
       "traceback": [
        "\u001b[0;31m---------------------------------------------------------------------------\u001b[0m\n\u001b[0;31mTypeError\u001b[0m                                 Traceback (most recent call last)",
        "\u001b[0;31mTypeError\u001b[0m: pend() takes exactly 4 arguments (2 given)"
       ]
      },
      {
       "ename": "TypeError",
       "evalue": "pend() takes exactly 4 arguments (2 given)",
       "output_type": "pyerr",
       "traceback": [
        "\u001b[0;31m---------------------------------------------------------------------------\u001b[0m\n\u001b[0;31mTypeError\u001b[0m                                 Traceback (most recent call last)",
        "\u001b[0;31mTypeError\u001b[0m: pend() takes exactly 4 arguments (2 given)"
       ]
      },
      {
       "ename": "TypeError",
       "evalue": "pend() takes exactly 4 arguments (2 given)",
       "output_type": "pyerr",
       "traceback": [
        "\u001b[0;31m---------------------------------------------------------------------------\u001b[0m\n\u001b[0;31mTypeError\u001b[0m                                 Traceback (most recent call last)",
        "\u001b[0;31mTypeError\u001b[0m: pend() takes exactly 4 arguments (2 given)"
       ]
      },
      {
       "ename": "TypeError",
       "evalue": "pend() takes exactly 4 arguments (2 given)",
       "output_type": "pyerr",
       "traceback": [
        "\u001b[0;31m---------------------------------------------------------------------------\u001b[0m\n\u001b[0;31mTypeError\u001b[0m                                 Traceback (most recent call last)",
        "\u001b[0;31mTypeError\u001b[0m: pend() takes exactly 4 arguments (2 given)"
       ]
      },
      {
       "ename": "TypeError",
       "evalue": "pend() takes exactly 4 arguments (2 given)",
       "output_type": "pyerr",
       "traceback": [
        "\u001b[0;31m---------------------------------------------------------------------------\u001b[0m\n\u001b[0;31mTypeError\u001b[0m                                 Traceback (most recent call last)",
        "\u001b[0;31mTypeError\u001b[0m: pend() takes exactly 4 arguments (2 given)"
       ]
      },
      {
       "ename": "TypeError",
       "evalue": "pend() takes exactly 4 arguments (2 given)",
       "output_type": "pyerr",
       "traceback": [
        "\u001b[0;31m---------------------------------------------------------------------------\u001b[0m\n\u001b[0;31mTypeError\u001b[0m                                 Traceback (most recent call last)",
        "\u001b[0;31mTypeError\u001b[0m: pend() takes exactly 4 arguments (2 given)"
       ]
      },
      {
       "ename": "TypeError",
       "evalue": "pend() takes exactly 4 arguments (2 given)",
       "output_type": "pyerr",
       "traceback": [
        "\u001b[0;31m---------------------------------------------------------------------------\u001b[0m\n\u001b[0;31mTypeError\u001b[0m                                 Traceback (most recent call last)",
        "\u001b[0;31mTypeError\u001b[0m: pend() takes exactly 4 arguments (2 given)"
       ]
      },
      {
       "ename": "TypeError",
       "evalue": "pend() takes exactly 4 arguments (2 given)",
       "output_type": "pyerr",
       "traceback": [
        "\u001b[0;31m---------------------------------------------------------------------------\u001b[0m\n\u001b[0;31mTypeError\u001b[0m                                 Traceback (most recent call last)",
        "\u001b[0;31mTypeError\u001b[0m: pend() takes exactly 4 arguments (2 given)"
       ]
      },
      {
       "ename": "TypeError",
       "evalue": "pend() takes exactly 4 arguments (2 given)",
       "output_type": "pyerr",
       "traceback": [
        "\u001b[0;31m---------------------------------------------------------------------------\u001b[0m\n\u001b[0;31mTypeError\u001b[0m                                 Traceback (most recent call last)",
        "\u001b[0;31mTypeError\u001b[0m: pend() takes exactly 4 arguments (2 given)"
       ]
      },
      {
       "ename": "TypeError",
       "evalue": "pend() takes exactly 4 arguments (2 given)",
       "output_type": "pyerr",
       "traceback": [
        "\u001b[0;31m---------------------------------------------------------------------------\u001b[0m\n\u001b[0;31mTypeError\u001b[0m                                 Traceback (most recent call last)",
        "\u001b[0;31mTypeError\u001b[0m: pend() takes exactly 4 arguments (2 given)"
       ]
      },
      {
       "ename": "TypeError",
       "evalue": "pend() takes exactly 4 arguments (2 given)",
       "output_type": "pyerr",
       "traceback": [
        "\u001b[0;31m---------------------------------------------------------------------------\u001b[0m\n\u001b[0;31mTypeError\u001b[0m                                 Traceback (most recent call last)",
        "\u001b[0;31mTypeError\u001b[0m: pend() takes exactly 4 arguments (2 given)"
       ]
      },
      {
       "ename": "TypeError",
       "evalue": "pend() takes exactly 4 arguments (2 given)",
       "output_type": "pyerr",
       "traceback": [
        "\u001b[0;31m---------------------------------------------------------------------------\u001b[0m\n\u001b[0;31mTypeError\u001b[0m                                 Traceback (most recent call last)",
        "\u001b[0;31mTypeError\u001b[0m: pend() takes exactly 4 arguments (2 given)"
       ]
      },
      {
       "ename": "TypeError",
       "evalue": "pend() takes exactly 4 arguments (2 given)",
       "output_type": "pyerr",
       "traceback": [
        "\u001b[0;31m---------------------------------------------------------------------------\u001b[0m\n\u001b[0;31mTypeError\u001b[0m                                 Traceback (most recent call last)",
        "\u001b[0;31mTypeError\u001b[0m: pend() takes exactly 4 arguments (2 given)"
       ]
      },
      {
       "ename": "TypeError",
       "evalue": "pend() takes exactly 4 arguments (2 given)",
       "output_type": "pyerr",
       "traceback": [
        "\u001b[0;31m---------------------------------------------------------------------------\u001b[0m\n\u001b[0;31mTypeError\u001b[0m                                 Traceback (most recent call last)",
        "\u001b[0;31mTypeError\u001b[0m: pend() takes exactly 4 arguments (2 given)"
       ]
      },
      {
       "ename": "TypeError",
       "evalue": "pend() takes exactly 4 arguments (2 given)",
       "output_type": "pyerr",
       "traceback": [
        "\u001b[0;31m---------------------------------------------------------------------------\u001b[0m\n\u001b[0;31mTypeError\u001b[0m                                 Traceback (most recent call last)",
        "\u001b[0;31mTypeError\u001b[0m: pend() takes exactly 4 arguments (2 given)"
       ]
      },
      {
       "ename": "TypeError",
       "evalue": "pend() takes exactly 4 arguments (2 given)",
       "output_type": "pyerr",
       "traceback": [
        "\u001b[0;31m---------------------------------------------------------------------------\u001b[0m\n\u001b[0;31mTypeError\u001b[0m                                 Traceback (most recent call last)",
        "\u001b[0;31mTypeError\u001b[0m: pend() takes exactly 4 arguments (2 given)"
       ]
      },
      {
       "ename": "TypeError",
       "evalue": "pend() takes exactly 4 arguments (2 given)",
       "output_type": "pyerr",
       "traceback": [
        "\u001b[0;31m---------------------------------------------------------------------------\u001b[0m\n\u001b[0;31mTypeError\u001b[0m                                 Traceback (most recent call last)",
        "\u001b[0;31mTypeError\u001b[0m: pend() takes exactly 4 arguments (2 given)"
       ]
      },
      {
       "ename": "TypeError",
       "evalue": "pend() takes exactly 4 arguments (2 given)",
       "output_type": "pyerr",
       "traceback": [
        "\u001b[0;31m---------------------------------------------------------------------------\u001b[0m\n\u001b[0;31mTypeError\u001b[0m                                 Traceback (most recent call last)",
        "\u001b[0;31mTypeError\u001b[0m: pend() takes exactly 4 arguments (2 given)"
       ]
      },
      {
       "ename": "TypeError",
       "evalue": "pend() takes exactly 4 arguments (2 given)",
       "output_type": "pyerr",
       "traceback": [
        "\u001b[0;31m---------------------------------------------------------------------------\u001b[0m\n\u001b[0;31mTypeError\u001b[0m                                 Traceback (most recent call last)",
        "\u001b[0;31mTypeError\u001b[0m: pend() takes exactly 4 arguments (2 given)"
       ]
      },
      {
       "ename": "TypeError",
       "evalue": "pend() takes exactly 4 arguments (2 given)",
       "output_type": "pyerr",
       "traceback": [
        "\u001b[0;31m---------------------------------------------------------------------------\u001b[0m\n\u001b[0;31mTypeError\u001b[0m                                 Traceback (most recent call last)",
        "\u001b[0;31mTypeError\u001b[0m: pend() takes exactly 4 arguments (2 given)"
       ]
      },
      {
       "ename": "TypeError",
       "evalue": "pend() takes exactly 4 arguments (2 given)",
       "output_type": "pyerr",
       "traceback": [
        "\u001b[0;31m---------------------------------------------------------------------------\u001b[0m\n\u001b[0;31mTypeError\u001b[0m                                 Traceback (most recent call last)",
        "\u001b[0;31mTypeError\u001b[0m: pend() takes exactly 4 arguments (2 given)"
       ]
      },
      {
       "ename": "TypeError",
       "evalue": "pend() takes exactly 4 arguments (2 given)",
       "output_type": "pyerr",
       "traceback": [
        "\u001b[0;31m---------------------------------------------------------------------------\u001b[0m\n\u001b[0;31mTypeError\u001b[0m                                 Traceback (most recent call last)",
        "\u001b[0;31mTypeError\u001b[0m: pend() takes exactly 4 arguments (2 given)"
       ]
      },
      {
       "ename": "TypeError",
       "evalue": "pend() takes exactly 4 arguments (2 given)",
       "output_type": "pyerr",
       "traceback": [
        "\u001b[0;31m---------------------------------------------------------------------------\u001b[0m\n\u001b[0;31mTypeError\u001b[0m                                 Traceback (most recent call last)",
        "\u001b[0;31mTypeError\u001b[0m: pend() takes exactly 4 arguments (2 given)"
       ]
      },
      {
       "ename": "TypeError",
       "evalue": "pend() takes exactly 4 arguments (2 given)",
       "output_type": "pyerr",
       "traceback": [
        "\u001b[0;31m---------------------------------------------------------------------------\u001b[0m\n\u001b[0;31mTypeError\u001b[0m                                 Traceback (most recent call last)",
        "\u001b[0;31mTypeError\u001b[0m: pend() takes exactly 4 arguments (2 given)"
       ]
      },
      {
       "ename": "TypeError",
       "evalue": "pend() takes exactly 4 arguments (2 given)",
       "output_type": "pyerr",
       "traceback": [
        "\u001b[0;31m---------------------------------------------------------------------------\u001b[0m\n\u001b[0;31mTypeError\u001b[0m                                 Traceback (most recent call last)",
        "\u001b[0;31mTypeError\u001b[0m: pend() takes exactly 4 arguments (2 given)"
       ]
      },
      {
       "ename": "TypeError",
       "evalue": "pend() takes exactly 4 arguments (2 given)",
       "output_type": "pyerr",
       "traceback": [
        "\u001b[0;31m---------------------------------------------------------------------------\u001b[0m\n\u001b[0;31mTypeError\u001b[0m                                 Traceback (most recent call last)",
        "\u001b[0;31mTypeError\u001b[0m: pend() takes exactly 4 arguments (2 given)"
       ]
      },
      {
       "ename": "TypeError",
       "evalue": "pend() takes exactly 4 arguments (2 given)",
       "output_type": "pyerr",
       "traceback": [
        "\u001b[0;31m---------------------------------------------------------------------------\u001b[0m\n\u001b[0;31mTypeError\u001b[0m                                 Traceback (most recent call last)",
        "\u001b[0;31mTypeError\u001b[0m: pend() takes exactly 4 arguments (2 given)"
       ]
      },
      {
       "ename": "TypeError",
       "evalue": "pend() takes exactly 4 arguments (2 given)",
       "output_type": "pyerr",
       "traceback": [
        "\u001b[0;31m---------------------------------------------------------------------------\u001b[0m\n\u001b[0;31mTypeError\u001b[0m                                 Traceback (most recent call last)",
        "\u001b[0;31mTypeError\u001b[0m: pend() takes exactly 4 arguments (2 given)"
       ]
      },
      {
       "ename": "TypeError",
       "evalue": "pend() takes exactly 4 arguments (2 given)",
       "output_type": "pyerr",
       "traceback": [
        "\u001b[0;31m---------------------------------------------------------------------------\u001b[0m\n\u001b[0;31mTypeError\u001b[0m                                 Traceback (most recent call last)",
        "\u001b[0;31mTypeError\u001b[0m: pend() takes exactly 4 arguments (2 given)"
       ]
      },
      {
       "ename": "TypeError",
       "evalue": "pend() takes exactly 4 arguments (2 given)",
       "output_type": "pyerr",
       "traceback": [
        "\u001b[0;31m---------------------------------------------------------------------------\u001b[0m\n\u001b[0;31mTypeError\u001b[0m                                 Traceback (most recent call last)",
        "\u001b[0;31mTypeError\u001b[0m: pend() takes exactly 4 arguments (2 given)"
       ]
      },
      {
       "ename": "TypeError",
       "evalue": "pend() takes exactly 4 arguments (2 given)",
       "output_type": "pyerr",
       "traceback": [
        "\u001b[0;31m---------------------------------------------------------------------------\u001b[0m\n\u001b[0;31mTypeError\u001b[0m                                 Traceback (most recent call last)",
        "\u001b[0;31mTypeError\u001b[0m: pend() takes exactly 4 arguments (2 given)"
       ]
      },
      {
       "ename": "TypeError",
       "evalue": "pend() takes exactly 4 arguments (2 given)",
       "output_type": "pyerr",
       "traceback": [
        "\u001b[0;31m---------------------------------------------------------------------------\u001b[0m\n\u001b[0;31mTypeError\u001b[0m                                 Traceback (most recent call last)",
        "\u001b[0;31mTypeError\u001b[0m: pend() takes exactly 4 arguments (2 given)"
       ]
      },
      {
       "ename": "TypeError",
       "evalue": "pend() takes exactly 4 arguments (2 given)",
       "output_type": "pyerr",
       "traceback": [
        "\u001b[0;31m---------------------------------------------------------------------------\u001b[0m\n\u001b[0;31mTypeError\u001b[0m                                 Traceback (most recent call last)",
        "\u001b[0;31mTypeError\u001b[0m: pend() takes exactly 4 arguments (2 given)"
       ]
      },
      {
       "ename": "TypeError",
       "evalue": "pend() takes exactly 4 arguments (2 given)",
       "output_type": "pyerr",
       "traceback": [
        "\u001b[0;31m---------------------------------------------------------------------------\u001b[0m\n\u001b[0;31mTypeError\u001b[0m                                 Traceback (most recent call last)",
        "\u001b[0;31mTypeError\u001b[0m: pend() takes exactly 4 arguments (2 given)"
       ]
      },
      {
       "ename": "TypeError",
       "evalue": "pend() takes exactly 4 arguments (2 given)",
       "output_type": "pyerr",
       "traceback": [
        "\u001b[0;31m---------------------------------------------------------------------------\u001b[0m\n\u001b[0;31mTypeError\u001b[0m                                 Traceback (most recent call last)",
        "\u001b[0;31mTypeError\u001b[0m: pend() takes exactly 4 arguments (2 given)"
       ]
      },
      {
       "ename": "TypeError",
       "evalue": "pend() takes exactly 4 arguments (2 given)",
       "output_type": "pyerr",
       "traceback": [
        "\u001b[0;31m---------------------------------------------------------------------------\u001b[0m\n\u001b[0;31mTypeError\u001b[0m                                 Traceback (most recent call last)",
        "\u001b[0;31mTypeError\u001b[0m: pend() takes exactly 4 arguments (2 given)"
       ]
      },
      {
       "ename": "TypeError",
       "evalue": "pend() takes exactly 4 arguments (2 given)",
       "output_type": "pyerr",
       "traceback": [
        "\u001b[0;31m---------------------------------------------------------------------------\u001b[0m\n\u001b[0;31mTypeError\u001b[0m                                 Traceback (most recent call last)",
        "\u001b[0;31mTypeError\u001b[0m: pend() takes exactly 4 arguments (2 given)"
       ]
      },
      {
       "ename": "TypeError",
       "evalue": "pend() takes exactly 4 arguments (2 given)",
       "output_type": "pyerr",
       "traceback": [
        "\u001b[0;31m---------------------------------------------------------------------------\u001b[0m\n\u001b[0;31mTypeError\u001b[0m                                 Traceback (most recent call last)",
        "\u001b[0;31mTypeError\u001b[0m: pend() takes exactly 4 arguments (2 given)"
       ]
      },
      {
       "ename": "TypeError",
       "evalue": "pend() takes exactly 4 arguments (2 given)",
       "output_type": "pyerr",
       "traceback": [
        "\u001b[0;31m---------------------------------------------------------------------------\u001b[0m\n\u001b[0;31mTypeError\u001b[0m                                 Traceback (most recent call last)",
        "\u001b[0;31mTypeError\u001b[0m: pend() takes exactly 4 arguments (2 given)"
       ]
      },
      {
       "ename": "TypeError",
       "evalue": "pend() takes exactly 4 arguments (2 given)",
       "output_type": "pyerr",
       "traceback": [
        "\u001b[0;31m---------------------------------------------------------------------------\u001b[0m\n\u001b[0;31mTypeError\u001b[0m                                 Traceback (most recent call last)",
        "\u001b[0;31mTypeError\u001b[0m: pend() takes exactly 4 arguments (2 given)"
       ]
      },
      {
       "ename": "TypeError",
       "evalue": "pend() takes exactly 4 arguments (2 given)",
       "output_type": "pyerr",
       "traceback": [
        "\u001b[0;31m---------------------------------------------------------------------------\u001b[0m\n\u001b[0;31mTypeError\u001b[0m                                 Traceback (most recent call last)",
        "\u001b[0;31mTypeError\u001b[0m: pend() takes exactly 4 arguments (2 given)"
       ]
      },
      {
       "ename": "TypeError",
       "evalue": "pend() takes exactly 4 arguments (2 given)",
       "output_type": "pyerr",
       "traceback": [
        "\u001b[0;31m---------------------------------------------------------------------------\u001b[0m\n\u001b[0;31mTypeError\u001b[0m                                 Traceback (most recent call last)",
        "\u001b[0;31mTypeError\u001b[0m: pend() takes exactly 4 arguments (2 given)"
       ]
      },
      {
       "ename": "TypeError",
       "evalue": "pend() takes exactly 4 arguments (2 given)",
       "output_type": "pyerr",
       "traceback": [
        "\u001b[0;31m---------------------------------------------------------------------------\u001b[0m\n\u001b[0;31mTypeError\u001b[0m                                 Traceback (most recent call last)",
        "\u001b[0;31mTypeError\u001b[0m: pend() takes exactly 4 arguments (2 given)"
       ]
      },
      {
       "ename": "TypeError",
       "evalue": "pend() takes exactly 4 arguments (2 given)",
       "output_type": "pyerr",
       "traceback": [
        "\u001b[0;31m---------------------------------------------------------------------------\u001b[0m\n\u001b[0;31mTypeError\u001b[0m                                 Traceback (most recent call last)",
        "\u001b[0;31mTypeError\u001b[0m: pend() takes exactly 4 arguments (2 given)"
       ]
      },
      {
       "ename": "TypeError",
       "evalue": "pend() takes exactly 4 arguments (2 given)",
       "output_type": "pyerr",
       "traceback": [
        "\u001b[0;31m---------------------------------------------------------------------------\u001b[0m\n\u001b[0;31mTypeError\u001b[0m                                 Traceback (most recent call last)",
        "\u001b[0;31mTypeError\u001b[0m: pend() takes exactly 4 arguments (2 given)"
       ]
      },
      {
       "ename": "TypeError",
       "evalue": "pend() takes exactly 4 arguments (2 given)",
       "output_type": "pyerr",
       "traceback": [
        "\u001b[0;31m---------------------------------------------------------------------------\u001b[0m\n\u001b[0;31mTypeError\u001b[0m                                 Traceback (most recent call last)",
        "\u001b[0;31mTypeError\u001b[0m: pend() takes exactly 4 arguments (2 given)"
       ]
      },
      {
       "ename": "TypeError",
       "evalue": "pend() takes exactly 4 arguments (2 given)",
       "output_type": "pyerr",
       "traceback": [
        "\u001b[0;31m---------------------------------------------------------------------------\u001b[0m\n\u001b[0;31mTypeError\u001b[0m                                 Traceback (most recent call last)",
        "\u001b[0;31mTypeError\u001b[0m: pend() takes exactly 4 arguments (2 given)"
       ]
      },
      {
       "ename": "TypeError",
       "evalue": "pend() takes exactly 4 arguments (2 given)",
       "output_type": "pyerr",
       "traceback": [
        "\u001b[0;31m---------------------------------------------------------------------------\u001b[0m\n\u001b[0;31mTypeError\u001b[0m                                 Traceback (most recent call last)",
        "\u001b[0;31mTypeError\u001b[0m: pend() takes exactly 4 arguments (2 given)"
       ]
      },
      {
       "ename": "NameError",
       "evalue": "name 'X_f2' is not defined",
       "output_type": "pyerr",
       "traceback": [
        "\u001b[0;31m---------------------------------------------------------------------------\u001b[0m\n\u001b[0;31mNameError\u001b[0m                                 Traceback (most recent call last)",
        "\u001b[0;32m<ipython-input-54-f72049c56201>\u001b[0m in \u001b[0;36m<module>\u001b[0;34m()\u001b[0m\n\u001b[1;32m     13\u001b[0m \u001b[0;34m\u001b[0m\u001b[0m\n\u001b[1;32m     14\u001b[0m \u001b[0;32mfor\u001b[0m \u001b[0mv\u001b[0m\u001b[0;34m,\u001b[0m \u001b[0mcol\u001b[0m \u001b[0;32min\u001b[0m \u001b[0mzip\u001b[0m\u001b[0;34m(\u001b[0m\u001b[0mvalues\u001b[0m\u001b[0;34m,\u001b[0m \u001b[0mvcolors\u001b[0m\u001b[0;34m)\u001b[0m\u001b[0;34m:\u001b[0m\u001b[0;34m\u001b[0m\u001b[0m\n\u001b[0;32m---> 15\u001b[0;31m     \u001b[0mX1\u001b[0m \u001b[0;34m=\u001b[0m \u001b[0mv\u001b[0m \u001b[0;34m*\u001b[0m \u001b[0mX_f2\u001b[0m                               \u001b[0;31m# starting point\u001b[0m\u001b[0;34m\u001b[0m\u001b[0m\n\u001b[0m\u001b[1;32m     16\u001b[0m     \u001b[0mX\u001b[0m \u001b[0;34m=\u001b[0m \u001b[0mintegrate\u001b[0m\u001b[0;34m.\u001b[0m\u001b[0modeint\u001b[0m\u001b[0;34m(\u001b[0m \u001b[0mpend\u001b[0m\u001b[0;34m,\u001b[0m \u001b[0mX1\u001b[0m\u001b[0;34m,\u001b[0m \u001b[0mt\u001b[0m\u001b[0;34m)\u001b[0m         \u001b[0;31m# we don't need infodict here\u001b[0m\u001b[0;34m\u001b[0m\u001b[0m\n\u001b[1;32m     17\u001b[0m     \u001b[0mp\u001b[0m\u001b[0;34m.\u001b[0m\u001b[0mplot\u001b[0m\u001b[0;34m(\u001b[0m \u001b[0mX\u001b[0m\u001b[0;34m[\u001b[0m\u001b[0;34m:\u001b[0m\u001b[0;34m,\u001b[0m\u001b[0;36m0\u001b[0m\u001b[0;34m]\u001b[0m\u001b[0;34m,\u001b[0m \u001b[0mX\u001b[0m\u001b[0;34m[\u001b[0m\u001b[0;34m:\u001b[0m\u001b[0;34m,\u001b[0m\u001b[0;36m1\u001b[0m\u001b[0;34m]\u001b[0m\u001b[0;34m,\u001b[0m \u001b[0mlw\u001b[0m\u001b[0;34m=\u001b[0m\u001b[0;36m3.5\u001b[0m\u001b[0;34m*\u001b[0m\u001b[0mv\u001b[0m\u001b[0;34m,\u001b[0m \u001b[0mcolor\u001b[0m\u001b[0;34m=\u001b[0m\u001b[0mcol\u001b[0m\u001b[0;34m,\u001b[0m \u001b[0mlabel\u001b[0m\u001b[0;34m=\u001b[0m\u001b[0;34m'X0=(%.f, %.f)'\u001b[0m \u001b[0;34m%\u001b[0m \u001b[0;34m(\u001b[0m \u001b[0mX0\u001b[0m\u001b[0;34m[\u001b[0m\u001b[0;36m0\u001b[0m\u001b[0;34m]\u001b[0m\u001b[0;34m,\u001b[0m \u001b[0mX0\u001b[0m\u001b[0;34m[\u001b[0m\u001b[0;36m1\u001b[0m\u001b[0;34m]\u001b[0m\u001b[0;34m)\u001b[0m \u001b[0;34m)\u001b[0m\u001b[0;34m\u001b[0m\u001b[0m\n",
        "\u001b[0;31mNameError\u001b[0m: name 'X_f2' is not defined"
       ]
      },
      {
       "output_type": "stream",
       "stream": "stdout",
       "text": [
        "Illegal input detected (internal error).\n",
        "Run with full_output = 1 to get quantitative information.\n"
       ]
      },
      {
       "metadata": {},
       "output_type": "display_data",
       "png": "[encoded data removed]",
       "text": [
        "<matplotlib.figure.Figure at 0x7f0e48f1cdd0>"
       ]
      }
     ],
     "prompt_number": 54
    },
    {
     "cell_type": "code",
     "collapsed": false,
     "input": [],
     "language": "python",
     "metadata": {},
     "outputs": []
    }
   ],
   "metadata": {}
  }
 ]
}