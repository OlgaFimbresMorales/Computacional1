{
 "metadata": {
  "name": "",
  "signature": "sha256:744be22572260eec3d2f618fafb7d55b11bde36ce2f466a24bbe91de27813099"
 },
 "nbformat": 3,
 "nbformat_minor": 0,
 "worksheets": [
  {
   "cells": [
    {
     "cell_type": "code",
     "collapsed": false,
     "input": [
      "from scipy import integrate\n",
      "\n",
      "XX = lambda x : x**2\n",
      "integrate.quad(XX, 0, 1, args=())"
     ],
     "language": "python",
     "metadata": {},
     "outputs": [
      {
       "metadata": {},
       "output_type": "pyout",
       "prompt_number": 20,
       "text": [
        "(0.33333333333333337, 3.700743415417189e-15)"
       ]
      }
     ],
     "prompt_number": 20
    },
    {
     "cell_type": "code",
     "collapsed": false,
     "input": [
      "from scipy import integrate\n",
      "import numpy as np\n",
      "from math import sqrt,cos\n",
      "\n",
      "l = 1. #longitud de la cuerda\n",
      "g = 9.81\n",
      "\n",
      "#periodo para oscilaciones peque\u00f1as\n",
      "To = 2*np.pi*sqrt(l/g) \n",
      "\n",
      "\n",
      "#periodo para oscilaciones arbitrarias\n",
      "#theta_0 = theta - 0.001\n",
      "#definir la funci\u00f3n a integrar\n",
      "\n",
      "\n",
      "T = 4*sqrt(l/(2*g))*int[0]\n",
      "theta = 0\n",
      "#ciclo para integrar\n",
      "while theta<np.pi/2:\n",
      "    X = lambda theta : 1/(sqrt(cos(theta)-cos(np.pi/2)))\n",
      "    int = integrate.quad(X, 0, np.pi/2, args=())    \n",
      "\n",
      "print(int)\n"
     ],
     "language": "python",
     "metadata": {},
     "outputs": []
    },
    {
     "cell_type": "code",
     "collapsed": true,
     "input": [],
     "language": "python",
     "metadata": {},
     "outputs": []
    },
    {
     "cell_type": "code",
     "collapsed": false,
     "input": [],
     "language": "python",
     "metadata": {},
     "outputs": [],
     "prompt_number": 3
    },
    {
     "cell_type": "code",
     "collapsed": false,
     "input": [],
     "language": "python",
     "metadata": {},
     "outputs": []
    }
   ],
   "metadata": {}
  }
 ]
}