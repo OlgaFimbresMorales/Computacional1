{
 "metadata": {
  "name": "",
  "signature": "sha256:c530511b58734173f1089302d6c4b8d14cc13f93cd45d43bfdfb3b37774c6383"
 },
 "nbformat": 3,
 "nbformat_minor": 0,
 "worksheets": [
  {
   "cells": [
    {
     "cell_type": "code",
     "collapsed": false,
     "input": [
      "from scipy import integrate\n",
      "\n",
      "XX = lambda x : x**2\n",
      "integrate.quad(XX, 0, 1, args=())"
     ],
     "language": "python",
     "metadata": {},
     "outputs": [
      {
       "metadata": {},
       "output_type": "pyout",
       "prompt_number": 20,
       "text": [
        "(0.33333333333333337, 3.700743415417189e-15)"
       ]
      }
     ],
     "prompt_number": 20
    },
    {
     "cell_type": "code",
     "collapsed": false,
     "input": [
      "from scipy import integrate\n",
      "import numpy as np\n",
      "\n",
      "\n",
      "l = 1. #longitud de la cuerda\n",
      "g = 9.81\n",
      "\n",
      "#periodo para oscilaciones peque\u00f1as\n",
      "To = 2*np.pi*sqrt(l/g) \n",
      "\n",
      "\n",
      "#periodo para oscilaciones arbitrarias\n",
      "#theta_0 = theta - 0.001\n",
      "#definir la funci\u00f3n a integrar\n",
      "\n",
      "#theta_0 = np.linspace(0, np.pi-0.001 ,100)\n",
      "\n",
      "X = lambda theta: 1.0/(np.sqrt(np.cos(theta)-np.cos(theta_0)))\n",
      "#ciclo para integrar\n",
      "theta_0 = 0.0\n",
      "while (theta_0 < np.pi):\n",
      "    theta_0 = theta_0 + 0.05\n",
      "    int2 = integrate.quad(X, 0.0, theta_0)    \n",
      "    \n",
      "    print(int2[0])\n",
      "#T = 4*sqrt(l/(2*g))*int[0]\n",
      "\n"
     ],
     "language": "python",
     "metadata": {},
     "outputs": [
      {
       "output_type": "stream",
       "stream": "stdout",
       "text": [
        "2.22178861904\n",
        "2.22283066597\n",
        "2.22456940399\n",
        "2.22700783322\n",
        "2.23015017447\n",
        "2.23400189037\n",
        "2.23856971272\n",
        "2.24386167655\n",
        "2.24988716124\n",
        "2.25665693906\n",
        "2.26418323183\n",
        "2.27247977622\n",
        "2.28156189834\n",
        "2.29144659908\n",
        "2.30215265019\n",
        "2.31370070345\n",
        "2.32611341363\n",
        "2.33941557702\n",
        "2.35363428762\n",
        "2.36879911303\n",
        "2.38494229294\n",
        "2.40209896275"
       ]
      },
      {
       "output_type": "stream",
       "stream": "stdout",
       "text": [
        "\n",
        "2.4203074068\n",
        "2.43960934449\n",
        "2.46005025513\n",
        "2.48167974718\n",
        "2.50455197904\n",
        "2.5287261401\n",
        "2.55426700225\n",
        "2.58124555455\n",
        "2.60973973601\n",
        "2.63983528527\n",
        "2.67162673011\n",
        "2.70521854482\n",
        "2.7407265111\n",
        "2.77827932662\n",
        "2.81802051732\n",
        "2.86011072513\n",
        "2.90473046313\n",
        "2.95208345793\n",
        "3.00240073631\n",
        "3.05594566506\n",
        "3.11302022419"
       ]
      },
      {
       "output_type": "stream",
       "stream": "stdout",
       "text": [
        "\n",
        "3.173972896\n",
        "3.23920869729\n",
        "3.30920209629\n",
        "3.38451387329\n",
        "3.46581346735\n",
        "3.55390910731\n",
        "3.64978923287\n",
        "3.75468070756\n",
        "3.87013273415\n",
        "3.99814144538\n",
        "4.14134143088\n",
        "4.30331266731\n",
        "4.48909797886\n",
        "4.70613247394\n",
        "4.96605483724\n",
        "5.28864600451\n",
        "5.71184572198\n",
        "6.32438513155\n",
        "7.43848886316\n",
        "nan\n"
       ]
      }
     ],
     "prompt_number": 4
    },
    {
     "cell_type": "code",
     "collapsed": true,
     "input": [],
     "language": "python",
     "metadata": {},
     "outputs": []
    },
    {
     "cell_type": "code",
     "collapsed": false,
     "input": [],
     "language": "python",
     "metadata": {},
     "outputs": []
    },
    {
     "cell_type": "code",
     "collapsed": false,
     "input": [],
     "language": "python",
     "metadata": {},
     "outputs": []
    }
   ],
   "metadata": {}
  }
 ]
}