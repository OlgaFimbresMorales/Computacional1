{
 "metadata": {
  "name": "Actividad2"
 },
 "nbformat": 3,
 "nbformat_minor": 0,
 "worksheets": [
  {
   "cells": [
    {
     "cell_type": "code",
     "collapsed": false,
     "input": "from math import sqrt\nprint(\"Problema 1\")\nh = float(input(\"Proporciona la altura de la torre en metros: \"))\nt = sqrt(2*h/9.81)\nprint(\"El tiempo en que la pelota llega al suelo son\",t,\"segundos\")",
     "language": "python",
     "metadata": {},
     "outputs": [
      {
       "output_type": "stream",
       "stream": "stdout",
       "text": "Problema 1\n"
      },
      {
       "name": "stdout",
       "output_type": "stream",
       "stream": "stdout",
       "text": "Proporciona la altura de la torre en metros: 50\n"
      },
      {
       "output_type": "stream",
       "stream": "stdout",
       "text": "('El tiempo en que la pelota llega al suelo son', 3.1927542840705043, 'segundos')\n"
      }
     ],
     "prompt_number": 4
    },
    {
     "cell_type": "code",
     "collapsed": false,
     "input": "from math import pi\nprint (\"Problema 2\")\nT = 60*float(input(\"Proporciona el periodo de un sat\u00e9lite alrededor de la Tierra en minutos: \"))\nG = 6.67e-11\nM = 5.97e24\nR = 6371000.\nh = (((G*M*T**2)/(4*pi**2))**(1.0/3.0))- R\nprint (\"Su altura debe ser de\", h, \"metros\")",
     "language": "python",
     "metadata": {},
     "outputs": [
      {
       "output_type": "stream",
       "stream": "stdout",
       "text": "Problema 2\n"
      },
      {
       "name": "stdout",
       "output_type": "stream",
       "stream": "stdout",
       "text": "Proporciona el periodo de un sat\u00e9lite alrededor de la Tierra en minutos: 24*60\n"
      },
      {
       "output_type": "stream",
       "stream": "stdout",
       "text": "('Su altura debe ser de', 35855910.176174976, 'metros')\n"
      }
     ],
     "prompt_number": 145
    },
    {
     "cell_type": "code",
     "collapsed": false,
     "input": "from math import sin,acos,pi, atan, sqrt\nprint (\"Problema 3\")\nprint (\"Especifica las coordenadas cartesianas del punto: \")\nx = float(input(\"Introduce x: \"))\ny = float(input(\"Introduce y: \"))\nz = float(input(\"Inytoduce z: \"))\nr = sqrt(x**2 + y**2 + z**2)\ntheta = acos(z/r)\nphi = atan(y/x)\nprint (\"Las coordenas esf\u00e9ricas correspondientes son:\")\nprint(\"r =\",r,\"theta =\",theta,\"phi =\",phi)\n      ",
     "language": "python",
     "metadata": {},
     "outputs": [
      {
       "output_type": "stream",
       "stream": "stdout",
       "text": "Problema 3\nEspecifica las coordenadas cartesianas del punto: \n"
      },
      {
       "name": "stdout",
       "output_type": "stream",
       "stream": "stdout",
       "text": "Introduce x: 1\n"
      },
      {
       "name": "stdout",
       "output_type": "stream",
       "stream": "stdout",
       "text": "Introduce y: 1\n"
      },
      {
       "name": "stdout",
       "output_type": "stream",
       "stream": "stdout",
       "text": "Inytoduce z: 2\n"
      },
      {
       "output_type": "stream",
       "stream": "stdout",
       "text": "Las coordenas esf\u00e9ricas correspondientes son:\n('r =', 2.449489742783178, 'theta =', 0.6154797086703871, 'phi =', 0.7853981633974483)\n"
      }
     ],
     "prompt_number": 11
    },
    {
     "cell_type": "code",
     "collapsed": false,
     "input": "from math import factorial\nprint(\"Problema 5\")\nprint(\"Secuencia de Fibonacci.\")\nf1,f2 = 0,1\nwhile f2<10:\n      print(f2)\n      f1,f2 = f2,f1+f2\n   \nprint(\"-------------------- :)\")\nprint(\"Secuencia de Catalan.\")\nn,C = 0.,1.\nwhile C<=1000000:\n    print(C) \n    n,C = n+1,((2*(2*n+1))/(n+2))*C\n    \n    \n    ",
     "language": "python",
     "metadata": {},
     "outputs": [
      {
       "output_type": "stream",
       "stream": "stdout",
       "text": "Problema 5\nSecuencia de Fibonacci.\n1\n1\n2\n3\n5\n8\n-------------------- :)\nSecuencia de Catalan.\n1.0\n1.0\n2.0\n5.0\n14.0\n42.0\n132.0\n429.0\n1430.0\n4862.0\n16796.0\n58786.0\n208012.0\n742900.0\n"
      }
     ],
     "prompt_number": 1
    },
    {
     "cell_type": "code",
     "collapsed": false,
     "input": "print (\"Problema 4b\"),\nprint(\"Ingrese dos n\u00fameros, uno par y uno impar:\")\nm = int(input(\"Ingrese el primer n\u00famero: \"))\nn = int(input(\"Ingrese el segundo n\u00famero: \"))\nwhile (m+n)%2==0:\n print(\"Uno debe ser par y el otro impar.\")\nm = int(input(\"Ingrese el primer n\u00famero: \"))\nn = int(input(\"Ingrese el segundo n\u00famero: \"))\nprint(\"Los n\u00fameros que escogi\u00f3 son\",m,\"y\",n)",
     "language": "python",
     "metadata": {},
     "outputs": [
      {
       "output_type": "stream",
       "stream": "stdout",
       "text": "Problema 4b Ingrese dos n\u00fameros, uno par y uno impar:\n"
      },
      {
       "name": "stdout",
       "output_type": "stream",
       "stream": "stdout",
       "text": "Ingrese el primer n\u00famero: 1\n"
      },
      {
       "name": "stdout",
       "output_type": "stream",
       "stream": "stdout",
       "text": "Ingrese el segundo n\u00famero: 86\n"
      },
      {
       "name": "stdout",
       "output_type": "stream",
       "stream": "stdout",
       "text": "Ingrese el primer n\u00famero: 1\n"
      },
      {
       "name": "stdout",
       "output_type": "stream",
       "stream": "stdout",
       "text": "Ingrese el segundo n\u00famero: 86\n"
      },
      {
       "output_type": "stream",
       "stream": "stdout",
       "text": "('Los n\\xc3\\xbameros que escogi\\xc3\\xb3 son', 1, 'y', 86)\n"
      }
     ],
     "prompt_number": 2
    },
    {
     "cell_type": "code",
     "collapsed": false,
     "input": "",
     "language": "python",
     "metadata": {},
     "outputs": []
    }
   ],
   "metadata": {}
  }
 ]
}