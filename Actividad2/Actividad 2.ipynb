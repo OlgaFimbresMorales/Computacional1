{
 "metadata": {
  "name": "",
  "signature": "sha256:94ca749ce9fab8bf5489fc95a22a1997a94080ba41db8561014af19cb42c19f6"
 },
 "nbformat": 3,
 "nbformat_minor": 0,
 "worksheets": [
  {
   "cells": [
    {
     "cell_type": "code",
     "collapsed": false,
     "input": [
      "from math import sqrt\n",
      "print(\"Problema 1)\n",
      "h = float(input(\"Proporciona la altura de la torre en metros: \"))\n",
      "t = sqrt(2*h/9.81)\n",
      "print(\"El tiempo en que la pelota llega al suelo son\",t,\"segundos\")\n"
     ],
     "language": "python",
     "metadata": {},
     "outputs": [
      {
       "name": "stdout",
       "output_type": "stream",
       "stream": "stdout",
       "text": [
        "Proporciona la altura de la torre en metros: 50\n"
       ]
      },
      {
       "output_type": "stream",
       "stream": "stdout",
       "text": [
        "('El tiempo en que la pelota llega al suelo son', 3.1927542840705043, 'segundos')\n"
       ]
      }
     ],
     "prompt_number": 9
    },
    {
     "cell_type": "code",
     "collapsed": false,
     "input": [
      "T = 60*float(input(\"Proporciona el periodo minutos: \"))\n",
      "print (T)"
     ],
     "language": "python",
     "metadata": {},
     "outputs": [
      {
       "name": "stdout",
       "output_type": "stream",
       "stream": "stdout",
       "text": [
        "Proporciona el periodo minutos: 5\n"
       ]
      },
      {
       "output_type": "stream",
       "stream": "stdout",
       "text": [
        "300.0\n"
       ]
      }
     ],
     "prompt_number": 10
    },
    {
     "cell_type": "code",
     "collapsed": false,
     "input": [
      "from math import sqrt, pi\n",
      "print (\"Problema 2\")\n",
      "T = 60*float(input(\"Proporciona el periodo de un sat\u00e9lite en minutos: \"))\n",
      "G = 6.67e-11\n",
      "M = 5.97e24\n",
      "R = 6371000.\n",
      "h = (((G*M*T**2)/(4*pi**2))**(1.0/3.0))- R\n",
      "print (\"Su altura debe ser de\", h, \"metros\")"
     ],
     "language": "python",
     "metadata": {},
     "outputs": [
      {
       "output_type": "stream",
       "stream": "stdout",
       "text": [
        "Problema 2\n"
       ]
      },
      {
       "name": "stdout",
       "output_type": "stream",
       "stream": "stdout",
       "text": [
        "Proporciona el periodo de un sat\u00e9lite en minutos: 45\n"
       ]
      },
      {
       "output_type": "stream",
       "stream": "stdout",
       "text": [
        "('Su altura debe ser de', -2181559.8978108233, 'metros')\n"
       ]
      }
     ],
     "prompt_number": 66
    },
    {
     "cell_type": "code",
     "collapsed": false,
     "input": [
      "from math import sin,acos,pi, atan, sqrt\n",
      "print (\"Problema 3\")\n",
      "print (\"Especifica las coordenadas cartesianas del punto:\")\n",
      "x = float(input(\"Introduce x: \"))\n",
      "y = float(input(\"Introduce y: \"))\n",
      "z = float(input(\"Inytoduce z: \"))\n",
      "r = sqrt(x**2 + y**2 + z**2)\n",
      "theta = acos(z/r)\n",
      "phi = atan(y/x)\n",
      "print (\"Las coordenas esf\u00e9ricas correspondientes son:\")\n",
      "print(\"r =\",r,\"theta =\",theta,\"phi =\",phi)\n",
      " "
     ],
     "language": "python",
     "metadata": {},
     "outputs": [
      {
       "output_type": "stream",
       "stream": "stdout",
       "text": [
        "Problema 3\n",
        "Especifica las coordenadas cartesianas del punto:\n"
       ]
      },
      {
       "name": "stdout",
       "output_type": "stream",
       "stream": "stdout",
       "text": [
        "Introduce x: 1\n"
       ]
      },
      {
       "name": "stdout",
       "output_type": "stream",
       "stream": "stdout",
       "text": [
        "Introduce y: 2\n"
       ]
      },
      {
       "name": "stdout",
       "output_type": "stream",
       "stream": "stdout",
       "text": [
        "Inytoduce z: 1\n"
       ]
      },
      {
       "output_type": "stream",
       "stream": "stdout",
       "text": [
        "Las coordenas esf\u00e9ricas correspondientes son:\n",
        "('r =', 2.449489742783178, 'theta =', 1.1502619915109313, 'phi =', 1.1071487177940904)\n"
       ]
      }
     ],
     "prompt_number": 4
    },
    {
     "cell_type": "code",
     "collapsed": false,
     "input": [
      "print (\"Problema 4a\")\n",
      "n = int(input(\"Ingrese un n\u00famero: \"))\n",
      "if n%2==0:\n",
      "     print(\"Par\")\n",
      "else:\n",
      "     print(\"Impar\")\n",
      "        "
     ],
     "language": "python",
     "metadata": {},
     "outputs": [
      {
       "output_type": "stream",
       "stream": "stdout",
       "text": [
        "Problema 4\n"
       ]
      },
      {
       "name": "stdout",
       "output_type": "stream",
       "stream": "stdout",
       "text": [
        "Ingrese un n\u00famero: 56\n"
       ]
      },
      {
       "output_type": "stream",
       "stream": "stdout",
       "text": [
        "Par\n"
       ]
      }
     ],
     "prompt_number": 7
    },
    {
     "cell_type": "code",
     "collapsed": false,
     "input": [
      "print (\"Problema 4b\")\n",
      "print(\"Ingrese dos n\u00famero, uno par y uno impar:\")\n",
      "m = int(input(\"Ingrese el primer n\u00famero: \"))\n",
      "n = int(input(\"Ingrese el segundo n\u00famero: \"))\n",
      "while (m+n)%2==0:\n",
      "    print(\"Uno debe ser par y el otro impar.\")\n",
      "    m = int(input(\"Ingrese el primer n\u00famero: \"))\n",
      "    n = int(input(\"Ingrese el segundo n\u00famero: \"))\n",
      "print(\"Los n\u00fameros que escogi\u00f3 son\",m,\"y\",n)"
     ],
     "language": "python",
     "metadata": {},
     "outputs": [
      {
       "output_type": "stream",
       "stream": "stdout",
       "text": [
        "Problema 4b\n",
        "Ingrese dos n\u00famero, uno par y uno impar:\n"
       ]
      },
      {
       "name": "stdout",
       "output_type": "stream",
       "stream": "stdout",
       "text": [
        "Ingrese el primer n\u00famero: 50\n"
       ]
      },
      {
       "name": "stdout",
       "output_type": "stream",
       "stream": "stdout",
       "text": [
        "Ingrese el segundo n\u00famero: 50\n"
       ]
      },
      {
       "output_type": "stream",
       "stream": "stdout",
       "text": [
        "Uno debe ser par y el otro impar.\n"
       ]
      },
      {
       "name": "stdout",
       "output_type": "stream",
       "stream": "stdout",
       "text": [
        "Ingrese el primer n\u00famero: 20\n"
       ]
      },
      {
       "name": "stdout",
       "output_type": "stream",
       "stream": "stdout",
       "text": [
        "Ingrese el segundo n\u00famero: 50\n"
       ]
      },
      {
       "output_type": "stream",
       "stream": "stdout",
       "text": [
        "Uno debe ser par y el otro impar.\n"
       ]
      },
      {
       "name": "stdout",
       "output_type": "stream",
       "stream": "stdout",
       "text": [
        "Ingrese el primer n\u00famero: 20\n"
       ]
      },
      {
       "name": "stdout",
       "output_type": "stream",
       "stream": "stdout",
       "text": [
        "Ingrese el segundo n\u00famero: 21\n"
       ]
      },
      {
       "output_type": "stream",
       "stream": "stdout",
       "text": [
        "('Los n\\xc3\\xbameros que escogi\\xc3\\xb3 son', 20, 'y', 21)\n"
       ]
      }
     ],
     "prompt_number": 11
    },
    {
     "cell_type": "code",
     "collapsed": false,
     "input": [
      "print(\"Problema 5.1\")\n",
      "f1,f2 = 1,1\n",
      "while f2<1000:\n",
      "      print(f2)\n",
      "      f1,f2 = f2,f1+f2"
     ],
     "language": "python",
     "metadata": {},
     "outputs": [
      {
       "output_type": "stream",
       "stream": "stdout",
       "text": [
        "Problema 5\n",
        "1\n",
        "2\n",
        "3\n",
        "5\n",
        "8\n",
        "13\n",
        "21\n",
        "34\n",
        "55\n",
        "89\n",
        "144\n",
        "233\n",
        "377\n",
        "610\n",
        "987\n"
       ]
      }
     ],
     "prompt_number": 12
    },
    {
     "cell_type": "code",
     "collapsed": false,
     "input": [
      "from math import factorial\n",
      "print(\"Problema 5.2\")\n",
      "f1,f2 = 1,1\n",
      "while f2<=10:\n",
      "      print(f2)\n",
      "      f1,f2 = f2,f1+f2"
     ],
     "language": "python",
     "metadata": {},
     "outputs": [
      {
       "output_type": "stream",
       "stream": "stdout",
       "text": [
        "Problema 5.2\n",
        "1\n",
        "2\n",
        "3\n",
        "5\n",
        "8\n"
       ]
      }
     ],
     "prompt_number": 25
    },
    {
     "cell_type": "code",
     "collapsed": false,
     "input": [
      "def factorial(x,n):\n",
      "\tif(n>0):\n",
      "\t\t# Se va llamando a ella misma mientras el valor sea superior a 0\n",
      "\t\tx=factorial(x,n-1)\n",
      "\t\tx=x*n\n",
      "\telse:\n",
      "\t\tx=1\n",
      "\treturn x\n",
      " \n",
      "try:\n",
      "\tnumero = int(raw_input(\"inserta un numero \"))\n",
      " \n",
      "\t# Ejecutamos la funci\u00f3n recusiva para el calculo\n",
      "\tcalculo=factorial(1,numero)\n",
      "\tprint \"El factorial de %s es %s\" % (numero,calculo)\n",
      "except:\n",
      "\tprint \"\\nTiene que ser un valor numerico\""
     ],
     "language": "python",
     "metadata": {},
     "outputs": [
      {
       "name": "stdout",
       "output_type": "stream",
       "stream": "stdout",
       "text": [
        "inserta un numero 0\n"
       ]
      },
      {
       "output_type": "stream",
       "stream": "stdout",
       "text": [
        "El factorial de 0 es 1\n"
       ]
      }
     ],
     "prompt_number": 35
    },
    {
     "cell_type": "code",
     "collapsed": false,
     "input": [
      "x ,n = 1, 1\n",
      "if(n>0)\n",
      "   \n",
      "    \n",
      "    "
     ],
     "language": "python",
     "metadata": {},
     "outputs": [
      {
       "output_type": "stream",
       "stream": "stdout",
       "text": [
        "0\n",
        "1\n",
        "1\n",
        "2\n",
        "3\n",
        "5\n",
        "8\n",
        "13\n",
        "21\n",
        "34\n",
        "55\n",
        "89\n"
       ]
      }
     ],
     "prompt_number": 59
    },
    {
     "cell_type": "code",
     "collapsed": false,
     "input": [],
     "language": "python",
     "metadata": {},
     "outputs": []
    }
   ],
   "metadata": {}
  }
 ]
}